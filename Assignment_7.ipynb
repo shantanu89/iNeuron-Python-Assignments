{
 "cells": [
  {
   "cell_type": "markdown",
   "metadata": {},
   "source": [
    "# 1. What is the name of the feature responsible for generating Regex objects?"
   ]
  },
  {
   "cell_type": "code",
   "execution_count": null,
   "metadata": {},
   "outputs": [],
   "source": [
    "Solution:\n",
    "          re.compile() function returns Regex objects."
   ]
  },
  {
   "cell_type": "code",
   "execution_count": 3,
   "metadata": {},
   "outputs": [
    {
     "data": {
      "text/plain": [
       "re.compile(r'string', re.UNICODE)"
      ]
     },
     "execution_count": 3,
     "metadata": {},
     "output_type": "execute_result"
    }
   ],
   "source": [
    "import re\n",
    "re.compile(\"string\")"
   ]
  },
  {
   "cell_type": "markdown",
   "metadata": {},
   "source": [
    "# 2. Why do raw strings often appear in Regex objects?"
   ]
  },
  {
   "cell_type": "code",
   "execution_count": null,
   "metadata": {},
   "outputs": [],
   "source": [
    "Solution:\n",
    "     Raw strings are used so that backslashes should not  escaped."
   ]
  },
  {
   "cell_type": "markdown",
   "metadata": {},
   "source": [
    "# 3. What is the return value of the search() method?"
   ]
  },
  {
   "cell_type": "code",
   "execution_count": null,
   "metadata": {},
   "outputs": [],
   "source": [
    "solution:\n",
    "    baiscally search() method return matrix as an object"
   ]
  },
  {
   "cell_type": "markdown",
   "metadata": {},
   "source": [
    "# 4. From a Match item, how do you get the actual strings that match the pattern?"
   ]
  },
  {
   "cell_type": "code",
   "execution_count": null,
   "metadata": {},
   "outputs": [],
   "source": [
    "Solution:\n",
    "    to get the actual string that match the pattern one should use group() method"
   ]
  },
  {
   "cell_type": "markdown",
   "metadata": {},
   "source": [
    "# 5. In the regex which created from the r&#39;(\\d\\d\\d)-(\\d\\d\\d-\\d\\d\\d\\d)&#39;, what does group zero cover?\n",
    "Group 2? Group 1?"
   ]
  },
  {
   "cell_type": "code",
   "execution_count": null,
   "metadata": {},
   "outputs": [],
   "source": [
    "Solution:\n",
    "        Group 0: covers the entire match \n",
    "        Group 1: covers the first set of parentheses\n",
    "        Group 2: covers the second set of parentheses."
   ]
  },
  {
   "cell_type": "markdown",
   "metadata": {},
   "source": [
    "# 6. In standard expression syntax, parentheses and intervals have distinct meanings. How can you tell\n",
    "a regex that you want it to fit real parentheses and periods?"
   ]
  },
  {
   "cell_type": "code",
   "execution_count": null,
   "metadata": {},
   "outputs": [],
   "source": [
    "solution:\n",
    "         We can use backslash: \\., \\(, and \\) is order to escape from Periods and parentheses"
   ]
  },
  {
   "cell_type": "markdown",
   "metadata": {},
   "source": [
    "# 7. The findall() method returns a string list or a list of string tuples. What causes it to return one of\n",
    "the two options?"
   ]
  },
  {
   "cell_type": "code",
   "execution_count": null,
   "metadata": {},
   "outputs": [],
   "source": [
    "Solution:\n",
    "         findall() method return string list\n",
    "    If the regex has no groups, a list of strings is returned. If the regex has groups, a list of tuples of strings is returned."
   ]
  },
  {
   "cell_type": "markdown",
   "metadata": {},
   "source": [
    "# 8. In standard expressions, what does the | character mean?"
   ]
  },
  {
   "cell_type": "code",
   "execution_count": null,
   "metadata": {},
   "outputs": [],
   "source": [
    "The | character signifies matching \"either, or\" between two groups."
   ]
  },
  {
   "cell_type": "markdown",
   "metadata": {},
   "source": [
    "# 9. In regular expressions, what does the character stand for?"
   ]
  },
  {
   "cell_type": "code",
   "execution_count": null,
   "metadata": {},
   "outputs": [],
   "source": [
    "SOlution:\n",
    "The ? character can either mean \"match zero or one of the preceding group\" or be used to signify nongreedy matching."
   ]
  },
  {
   "cell_type": "markdown",
   "metadata": {},
   "source": [
    "# 10.In regular expressions, what is the difference between the + and * characters?"
   ]
  },
  {
   "cell_type": "code",
   "execution_count": null,
   "metadata": {},
   "outputs": [],
   "source": [
    "Solution:\n",
    "        + mathces one or more\n",
    "        * mathces zero or more"
   ]
  },
  {
   "cell_type": "code",
   "execution_count": null,
   "metadata": {},
   "outputs": [],
   "source": [
    "11. What is the difference between {4} and {4,5} in regular expression?"
   ]
  },
  {
   "cell_type": "code",
   "execution_count": null,
   "metadata": {},
   "outputs": [],
   "source": [
    "solution:\n",
    "           \n",
    "        The {4} matches exactly four instances of the preceding group. The {4,5} matches between four and five instances."
   ]
  },
  {
   "cell_type": "markdown",
   "metadata": {},
   "source": [
    "# 12. What do you mean by the \\d, \\w, and \\s shorthand character classes signify in regular\n",
    "expressions?"
   ]
  },
  {
   "cell_type": "code",
   "execution_count": null,
   "metadata": {},
   "outputs": [],
   "source": [
    "solution:\n",
    "\\d returns a match where the string contains digits (numbers from 0-9)\n",
    "\\w returns a match where the string contains any word characters (characters from a to Z, digits from 0-9, and the underscore _ character)\n",
    "\\s returns a match where the string contains a white space character"
   ]
  },
  {
   "cell_type": "markdown",
   "metadata": {},
   "source": [
    "# 13. What do means by \\D, \\W, and \\S shorthand character classes signify in regular expressions?"
   ]
  },
  {
   "cell_type": "code",
   "execution_count": null,
   "metadata": {},
   "outputs": [],
   "source": [
    "solution:\n",
    "\\D returns a match where the string DOES NOT contain digits\n",
    "\\W returns a match where the string DOES NOT contain any word characters\n",
    "\\S returns a match where the string DOES NOT contain a white space character"
   ]
  },
  {
   "cell_type": "markdown",
   "metadata": {},
   "source": [
    "# 14. What is the difference between .*? and .*?"
   ]
  },
  {
   "cell_type": "code",
   "execution_count": null,
   "metadata": {},
   "outputs": [],
   "source": [
    "Solution:\n",
    ".*? this will check 0 or 1 occurances of any character while .* checks 0 or more  occurances of any characters. In this scenario\n",
    ".* will be implemented and check for  0 or more  occurances of any characters. examples are mentioned below"
   ]
  },
  {
   "cell_type": "markdown",
   "metadata": {},
   "source": [
    "# 15. What is the syntax for matching both numbers and lowercase letters with a character class?"
   ]
  },
  {
   "cell_type": "code",
   "execution_count": 2,
   "metadata": {},
   "outputs": [
    {
     "name": "stdout",
     "output_type": "stream",
     "text": [
      "['m', 'y', 'n', 'a', 'm', 'e', 'i', 's', 'a', 's', 'h', 'i', 's', 'h', '1', '2', '3', '5', '0']\n",
      "Yes, there is at least one match!\n"
     ]
    }
   ],
   "source": [
    "import re\n",
    "txt = \"my name is ashish 12350\"\n",
    "#Check if the string has any characters between a and z:\n",
    "x = re.findall(\"[a-z,0-9]\", txt)\n",
    "print(x)\n",
    "if x:\n",
    "  print(\"Yes, there is at least one match!\")\n",
    "else:\n",
    "  print(\"No match\")"
   ]
  },
  {
   "cell_type": "markdown",
   "metadata": {},
   "source": [
    "# 16. What is the procedure for making a normal expression in regax case insensitive?"
   ]
  },
  {
   "cell_type": "code",
   "execution_count": null,
   "metadata": {},
   "outputs": [],
   "source": [
    "solution:\n",
    "    IGNORECASE : This flag allows for case-insensitive matching of the Regular Expression with the given string i.e. expressions like [A-Z] will match lowercase letters, too. Generally, It's passed as an optional argument to re. compile() ."
   ]
  },
  {
   "cell_type": "code",
   "execution_count": null,
   "metadata": {},
   "outputs": [],
   "source": [
    "import re\n",
    "txt = \"my name is ashish 12350\"\n",
    "#Check if the string has any characters between a and z:\n",
    "x = re.findall(\"[a-z,0-9]\", txt)\n",
    "print(x)\n",
    "if x:\n",
    "  print(\"Yes, there is at least one match!\")\n",
    "else:\n",
    "  print(\"No match\")"
   ]
  },
  {
   "cell_type": "markdown",
   "metadata": {},
   "source": [
    "# 17. What does the . character normally match? What does it match if re.DOTALL is passed as 2nd\n",
    "argument in re.compile()?"
   ]
  },
  {
   "cell_type": "code",
   "execution_count": null,
   "metadata": {},
   "outputs": [],
   "source": [
    "solution:\n",
    "If re. DOTALL is passed as the second argument to re. compile(), then the dot will also match newline characters."
   ]
  },
  {
   "cell_type": "markdown",
   "metadata": {},
   "source": [
    "# 18. If numReg = re.compile(r&#39;\\d+&#39;), what will numRegex.sub(&#39;X&#39;, &#39;11 drummers, 10 pipers, five rings, 4\n",
    "hen&#39;) return?"
   ]
  },
  {
   "cell_type": "code",
   "execution_count": null,
   "metadata": {},
   "outputs": [],
   "source": [
    "solution:\n",
    "numRegex.sub('X', '11 drummers, 10 pipers, five rings, 4 hen') will relace one or many mathes of \"X\" with \"11 drummers, 10 pipers, five rings, 4 hen\""
   ]
  },
  {
   "cell_type": "markdown",
   "metadata": {},
   "source": [
    "# 19. What does passing re.VERBOSE as the 2nd argument to re.compile() allow to do?"
   ]
  },
  {
   "cell_type": "code",
   "execution_count": null,
   "metadata": {},
   "outputs": [],
   "source": [
    "solution:\n",
    "    re.VERBOSE flag allows us to write regular expressions that look nicer and are more readable by allowing us to visually separate logical sections of the pattern and add comments.\n",
    "\n",
    "Whitespace within the pattern is ignored, except when in a character class, or when preceded by an unescaped backslash, or within tokens like *?, (?: or (?P. When a line contains a # that is not in a character class and is not preceded by an unescaped backslash, all characters from the leftmost such # through the end of the line are ignored."
   ]
  },
  {
   "cell_type": "code",
   "execution_count": null,
   "metadata": {},
   "outputs": [],
   "source": []
  },
  {
   "cell_type": "markdown",
   "metadata": {},
   "source": [
    "# 20. How would you write a regex that match a number with comma for every three digits? It must\n",
    "match the given following:\n",
    "&#39;42&#39;\n",
    "&#39;1,234&#39;\n",
    "&#39;6,368,745&#39;"
   ]
  },
  {
   "cell_type": "code",
   "execution_count": 4,
   "metadata": {},
   "outputs": [
    {
     "data": {
      "text/plain": [
       "'42'"
      ]
     },
     "execution_count": 4,
     "metadata": {},
     "output_type": "execute_result"
    }
   ],
   "source": [
    "reg1 = re.compile(r'^\\d{1,3}(,\\d{3})*$')\n",
    "mo1 = reg1.search('42')\n",
    "mo1.group()"
   ]
  },
  {
   "cell_type": "code",
   "execution_count": 5,
   "metadata": {},
   "outputs": [
    {
     "data": {
      "text/plain": [
       "'1,234'"
      ]
     },
     "execution_count": 5,
     "metadata": {},
     "output_type": "execute_result"
    }
   ],
   "source": [
    "reg1 = re.compile(r'^\\d{1,3}(,\\d{3})*$')\n",
    "mo1 = reg1.search('1,234')\n",
    "mo1.group()"
   ]
  },
  {
   "cell_type": "code",
   "execution_count": 6,
   "metadata": {},
   "outputs": [
    {
     "data": {
      "text/plain": [
       "'6,368,745'"
      ]
     },
     "execution_count": 6,
     "metadata": {},
     "output_type": "execute_result"
    }
   ],
   "source": [
    "reg1 = re.compile(r'^\\d{1,3}(,\\d{3})*$')\n",
    "mo1 = reg1.search('6,368,745')\n",
    "mo1.group()"
   ]
  },
  {
   "cell_type": "markdown",
   "metadata": {},
   "source": [
    "# 21. How would you write a regex that matches the full name of someone whose last name is\n",
    "Watanabe? You can assume that the first name that comes before it will always be one word that\n",
    "begins with a capital letter. The regex must match the following:\n",
    "&#39;Haruto Watanabe&#39;\n",
    "&#39;Alice Watanabe&#39;\n",
    "&#39;RoboCop Watanabe&#39;\n",
    "but not the following:\n",
    "&#39;haruto Watanabe&#39; (where the first name is not capitalized)\n",
    "&#39;Mr. Watanabe&#39; (where the preceding word has a nonletter character)\n",
    "&#39;Watanabe&#39; (which has no first name)\n",
    "&#39;Haruto watanabe&#39; (where Watanabe is not capitalized)"
   ]
  },
  {
   "cell_type": "code",
   "execution_count": 8,
   "metadata": {},
   "outputs": [
    {
     "data": {
      "text/plain": [
       "'Haruto Watanabe'"
      ]
     },
     "execution_count": 8,
     "metadata": {},
     "output_type": "execute_result"
    }
   ],
   "source": [
    "name = re.compile(r'[A-Z][a-z]*\\sWatanabe')\n",
    "reg1 = re.compile(r'^\\d{1,3}(,\\d{haruto Watanabe3})*$')\n",
    "mo1 = name.search('Haruto Watanabe')\n",
    "mo1.group()\n"
   ]
  },
  {
   "cell_type": "code",
   "execution_count": 9,
   "metadata": {},
   "outputs": [
    {
     "data": {
      "text/plain": [
       "'Alice Watanabe'"
      ]
     },
     "execution_count": 9,
     "metadata": {},
     "output_type": "execute_result"
    }
   ],
   "source": [
    "name = re.compile(r'[A-Z][a-z]*\\sWatanabe')\n",
    "reg1 = re.compile(r'^\\d{1,3}(,\\d{3})*$')\n",
    "mo1 = name.search('Alice Watanabe')\n",
    "mo1.group()"
   ]
  },
  {
   "cell_type": "code",
   "execution_count": 10,
   "metadata": {},
   "outputs": [
    {
     "data": {
      "text/plain": [
       "'Robocop Watanabe'"
      ]
     },
     "execution_count": 10,
     "metadata": {},
     "output_type": "execute_result"
    }
   ],
   "source": [
    "name = re.compile(r'[A-Z][a-z]*\\sWatanabe')\n",
    "reg1 = re.compile(r'^\\d{1,3}(,\\d{3})*$')\n",
    "mo1 = name.search('Robocop Watanabe')\n",
    "mo1.group()"
   ]
  },
  {
   "cell_type": "markdown",
   "metadata": {},
   "source": [
    "# 22. How would you write a regex that matches a sentence where the first word is either Alice, Bob,\n",
    "or Carol; the second word is either eats, pets, or throws; the third word is apples, cats, or baseballs;\n",
    "and the sentence ends with a period? This regex should be case-insensitive. It must match the\n",
    "following:\n",
    "&#39;Alice eats apples.&#39;\n",
    "&#39;Bob pets cats.&#39;\n",
    "&#39;Carol throws baseballs.&#39;\n",
    "&#39;Alice throws Apples.&#39;\n",
    "&#39;BOB EATS CATS.&#39;\n",
    "but not the following:\n",
    "&#39;RoboCop eats apples.&#39;\n",
    "&#39;ALICE THROWS FOOTBALLS.&#39;\n",
    "&#39;Carol eats 7 cats.&#39;"
   ]
  },
  {
   "cell_type": "code",
   "execution_count": 11,
   "metadata": {},
   "outputs": [
    {
     "data": {
      "text/plain": [
       "'Alice eats apples.'"
      ]
     },
     "execution_count": 11,
     "metadata": {},
     "output_type": "execute_result"
    }
   ],
   "source": [
    "name = re.compile(r'(Alice|Bob|Carol)\\s(eats|pets|throws)\\s(apples|cats|baseballs)\\.', re.IGNORECASE)\n",
    "\n",
    "mo1 = name.search('Alice eats apples.')\n",
    "mo1.group()"
   ]
  },
  {
   "cell_type": "code",
   "execution_count": 12,
   "metadata": {},
   "outputs": [
    {
     "data": {
      "text/plain": [
       "'Carol throws baseballs.'"
      ]
     },
     "execution_count": 12,
     "metadata": {},
     "output_type": "execute_result"
    }
   ],
   "source": [
    "name = re.compile(r'(Alice|Bob|Carol)\\s(eats|pets|throws)\\s(apples|cats|baseballs)\\.', re.IGNORECASE)\n",
    "\n",
    "mo1 = name.search('Carol throws baseballs.')\n",
    "mo1.group()\n"
   ]
  },
  {
   "cell_type": "code",
   "execution_count": null,
   "metadata": {},
   "outputs": [],
   "source": []
  }
 ],
 "metadata": {
  "kernelspec": {
   "display_name": "Python 3",
   "language": "python",
   "name": "python3"
  },
  "language_info": {
   "codemirror_mode": {
    "name": "ipython",
    "version": 3
   },
   "file_extension": ".py",
   "mimetype": "text/x-python",
   "name": "python",
   "nbconvert_exporter": "python",
   "pygments_lexer": "ipython3",
   "version": "3.8.5"
  }
 },
 "nbformat": 4,
 "nbformat_minor": 4
}
