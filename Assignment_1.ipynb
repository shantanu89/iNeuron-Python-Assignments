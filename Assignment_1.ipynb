{
 "cells": [
  {
   "cell_type": "markdown",
   "metadata": {},
   "source": [
    "# 1. In the below elements which of them are values or an expression? eg:- values can be\n",
    "integer or string and expressions will be mathematical operators.\n",
    "*\n",
    "&#39;hello&#39;\n",
    "-87.8\n",
    "-\n",
    "/\n",
    "+\n",
    "6\n",
    "\n",
    "Solution : from the above examples values are (-87.8,6,'hello') and expressions are (*,-,/,+)"
   ]
  },
  {
   "cell_type": "markdown",
   "metadata": {},
   "source": [
    "# 2. What is the difference between string and variable?\n",
    "\n",
    "Solution : \n",
    "1) String is nothing but collection of one or more than one character or string is a value which represents text.\n",
    "  Example of string : \"sample\",\"example\"...etc (we can also convert numbers into a string ex: \"10\",\"20\"...etc)\n",
    "\n",
    "2) Variable is nothing but container/name which stores data.\n",
    "  Example of variable : str=\"sample\" (here str is the name of variable which contains data \"sample\" of type string)"
   ]
  },
  {
   "cell_type": "markdown",
   "metadata": {},
   "source": [
    "# 3. Describe three different data types.\n",
    "\n",
    "Solution:\n",
    "1) Interger  : It is the one of data type in python which stores whole numbers it may be positive or negative\n",
    "Example : num=10 ,num=-10 (Here we can say num is an variable which stores interger data)\n",
    "\n",
    "2) String : It is the one of data type in python which stores values in the form of text  and it is immutable\n",
    "Example : str = \"sample\" (here str is the name of variable which contains data \"sample\" of type string) \n",
    "\n",
    "3) Boolean : It is the one of data type in python which stores two built in values called True or False \n",
    "Example : num=\"4\" print(num.isdigit())---->output:True"
   ]
  },
  {
   "cell_type": "markdown",
   "metadata": {},
   "source": [
    "# 4. What is an expression made up of? What do all expressions do?\n",
    "\n",
    "Solution:\n",
    "    \n",
    "1)Expressions are nothing but the combinations of values and operators if we have two values A,B and one operator \"+\"\n",
    "  then we can say that \"A+B\" is an expression where A,B can be any value.\n",
    "\n",
    "2) Expressions are used to evaluate and calculate the result for a perticular statements"
   ]
  },
  {
   "cell_type": "markdown",
   "metadata": {},
   "source": [
    "# 5. This assignment statements, like spam = 10. What is the difference between an expression and a statement?\n",
    "\n",
    "Solution:\n",
    "    \n",
    "Eexpression are made up of operators and values from that we can expect result e in return ex: 5+6=10 (here 5+6 is an expression which gives result or return a value 10)\n",
    "but in case of statement it will not happen statement only represents just a simple commands."
   ]
  },
  {
   "cell_type": "markdown",
   "metadata": {},
   "source": [
    "# 6. After running the following code, what does the variable bacon contain?\n",
    "bacon = 22\n",
    "bacon + 1\n",
    "\n",
    "Solution :\n",
    "    \n",
    "After running the above code becon will contai 23..\n"
   ]
  },
  {
   "cell_type": "code",
   "execution_count": 7,
   "metadata": {},
   "outputs": [],
   "source": [
    "bacon=22"
   ]
  },
  {
   "cell_type": "code",
   "execution_count": 8,
   "metadata": {},
   "outputs": [
    {
     "data": {
      "text/plain": [
       "23"
      ]
     },
     "execution_count": 8,
     "metadata": {},
     "output_type": "execute_result"
    }
   ],
   "source": [
    "bacon+1"
   ]
  },
  {
   "cell_type": "markdown",
   "metadata": {},
   "source": [
    "# 7. What should the values of the following two terms be?\n",
    "&#39;spam&#39; + &#39;spamspam&#39;\n",
    "&#39;\n",
    "spam&#39; * 3\n",
    "\n",
    "Solution:\n",
    "    \n",
    "'spam'+'spamspam'='spamspamspam' \n",
    "\n",
    "'spam*3'='spamspamspam'\n",
    "\n",
    "here from the output we can observe output will be same for both."
   ]
  },
  {
   "cell_type": "code",
   "execution_count": 9,
   "metadata": {},
   "outputs": [
    {
     "data": {
      "text/plain": [
       "'spamspamspam'"
      ]
     },
     "execution_count": 9,
     "metadata": {},
     "output_type": "execute_result"
    }
   ],
   "source": [
    "'spam'+'spamspam'"
   ]
  },
  {
   "cell_type": "code",
   "execution_count": 10,
   "metadata": {},
   "outputs": [
    {
     "data": {
      "text/plain": [
       "'spamspamspam'"
      ]
     },
     "execution_count": 10,
     "metadata": {},
     "output_type": "execute_result"
    }
   ],
   "source": [
    "'spam'*3"
   ]
  },
  {
   "cell_type": "markdown",
   "metadata": {},
   "source": [
    "# 8. Why is eggs a valid variable name while 100 is invalid?\n",
    "\n",
    "Solution:\n",
    "\n",
    "Because we cant start variable name with integer value thats why 100 in not valid variable name and we can use string as a variable name and it is valid thats why eggs is valid variable name"
   ]
  },
  {
   "cell_type": "markdown",
   "metadata": {},
   "source": [
    "# 9. What three functions can be used to get the integer, floating-point number, or string\n",
    "version of a value?\n",
    "\n",
    "Solution:\n",
    "\n",
    "for interger its int()\n",
    "for floting point number its float()\n",
    "for string its str()"
   ]
  },
  {
   "cell_type": "markdown",
   "metadata": {},
   "source": [
    "# 10. Why does this expression cause an error? How can you fix it?\n",
    "&#39;I have eaten &#39; + 99 + &#39; burritos.&#39;\n",
    "\n",
    "solution:\n",
    "    \n",
    "Yes the above expression will cause error because we cant concatenate interger value with string\n",
    "\n",
    "to fix this this error we need to convert 99 into string i.e '99' or we can do typecasting."
   ]
  },
  {
   "cell_type": "code",
   "execution_count": null,
   "metadata": {},
   "outputs": [],
   "source": []
  }
 ],
 "metadata": {
  "kernelspec": {
   "display_name": "Python 3",
   "language": "python",
   "name": "python3"
  },
  "language_info": {
   "codemirror_mode": {
    "name": "ipython",
    "version": 3
   },
   "file_extension": ".py",
   "mimetype": "text/x-python",
   "name": "python",
   "nbconvert_exporter": "python",
   "pygments_lexer": "ipython3",
   "version": "3.8.5"
  }
 },
 "nbformat": 4,
 "nbformat_minor": 4
}
